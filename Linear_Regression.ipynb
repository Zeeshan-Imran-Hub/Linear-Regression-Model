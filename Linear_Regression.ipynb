{
  "nbformat": 4,
  "nbformat_minor": 0,
  "metadata": {
    "colab": {
      "provenance": [],
      "mount_file_id": "13jkhSsqK4659Z9voFiAyCRr-gOAMPD4M",
      "authorship_tag": "ABX9TyOOKc+hucGrjWKUt0ChUThH",
      "include_colab_link": true
    },
    "kernelspec": {
      "name": "python3",
      "display_name": "Python 3"
    },
    "language_info": {
      "name": "python"
    }
  },
  "cells": [
    {
      "cell_type": "markdown",
      "metadata": {
        "id": "view-in-github",
        "colab_type": "text"
      },
      "source": [
        "<a href=\"https://colab.research.google.com/github/Zeeshan-Imran-Hub/Linear-Regression-Model/blob/main/Linear_Regression.ipynb\" target=\"_parent\"><img src=\"https://colab.research.google.com/assets/colab-badge.svg\" alt=\"Open In Colab\"/></a>"
      ]
    },
    {
      "cell_type": "code",
      "execution_count": null,
      "metadata": {
        "colab": {
          "base_uri": "https://localhost:8080/",
          "height": 820
        },
        "id": "eRg96DC0aAOA",
        "outputId": "4dc656c4-c0ca-4e0f-8e0f-ed56956dacd1"
      },
      "outputs": [
        {
          "output_type": "stream",
          "name": "stdout",
          "text": [
            "      price  bedrooms  bathrooms  sqft_living  sqft_lot  floors\n",
            "0    313000         3       1.50         1340      7912     1.5\n",
            "1   2384000         5       2.50         3650      9050     2.0\n",
            "2    342000         3       2.00         1930     11947     1.0\n",
            "3    420000         3       2.25         2000      8030     1.0\n",
            "4    550000         4       2.50         1940     10500     1.0\n",
            "..      ...       ...        ...          ...       ...     ...\n",
            "94   524000         3       1.75         1560      5520     1.0\n",
            "95   541125         5       2.75         2740      8426     1.0\n",
            "96   670000         3       2.50         1680      2000     3.0\n",
            "97   384900         5       2.50         3090     12750     1.0\n",
            "98   406100         3       2.25         1410      1332     3.0\n",
            "\n",
            "[99 rows x 6 columns]\n",
            "Cost: 0.1404460295345246\n",
            "Theta: [1.7322002418299282e-17, 0.1473297017511481, 0.2337922622174031, -0.068116371343118, 0.0735276013223823, 0.14198033534019588]\n",
            "Cost: 0.004911160460047132\n"
          ]
        },
        {
          "output_type": "display_data",
          "data": {
            "text/plain": [
              "<Figure size 640x480 with 1 Axes>"
            ],
            "image/png": "[encoded data removed]"
          },
          "metadata": {}
        },
        {
          "output_type": "execute_result",
          "data": {
            "text/plain": [
              "'\\ninitial_hypothesis = hypothesis(initial_theta, x_norm)\\nfinal_hypothesis = hypothesis(theta, x_norm)\\n\\nplt.scatter(x_norm,y_norm, label=\\'Data\\',color =\\'b\\')\\nplt.plot(x_norm, initial_hypothesis, label=\\'Initial Hypothesis\\', color=\\'r\\')\\nplt.plot(x_norm, final_hypothesis, label=\\'Final Hypothesis\\', color=\\'g\\')\\nplt.title(\\'House Price Prediction\\')\\nplt.xlabel(\"Sqrt_Living (Normalized)\")\\nplt.ylabel(\"Price (Normalized)\")\\nplt.legend()\\nplt.show()\\n'"
            ],
            "application/vnd.google.colaboratory.intrinsic+json": {
              "type": "string"
            }
          },
          "metadata": {},
          "execution_count": 2
        }
      ],
      "source": [
        "import pandas as pd\n",
        "import numpy as np\n",
        "import matplotlib.pyplot as plt\n",
        "\n",
        "\n",
        "df = pd.read_csv(\"/content/drive/MyDrive/data_mod.csv\")\n",
        "\n",
        "print(df)\n",
        "\n",
        "x1 = df['sqft_living'].values\n",
        "x2 = df['bedrooms'].values\n",
        "x3 = df['bathrooms'].values\n",
        "x4 = df['sqft_lot'].values\n",
        "x5 = df['floors'].values\n",
        "\n",
        "y = df['price'].values\n",
        "\n",
        "#print(\"Vector x:\", x)\n",
        "#print(\"Vector y:\", y)\n",
        "\n",
        "def hypothesis(theta, x1, x2, x3, x4, x5):\n",
        "  return (theta[0] + (x1 * theta[1]) + (x2 * theta[2]) + (x3 * theta[3]) + (x4 * theta[4]) + (x5 * theta[5]))\n",
        "\n",
        "\n",
        "def cost_calculator(x1, x2, x3, x4, x5, y, theta):\n",
        "    m = len(y)\n",
        "    predictions = hypothesis(theta, x1, x2, x3, x4, x5)\n",
        "    errors = predictions - y\n",
        "    cost = (1 / (2 * m)) * np.sum(errors ** 2)\n",
        "    return cost\n",
        "\n",
        "def normalize_vector(vect):\n",
        "    return (vect - np.mean(vect)) / np.max(vect)\n",
        "\n",
        "\n",
        "def gradient_decent_algo(alpha, x1, x2, x3, x4, x5, y, theta):\n",
        "  m = len(y)\n",
        "  predictions = hypothesis(theta, x1, x2, x3, x4, x5)\n",
        "  errors = predictions - y\n",
        "  theta[0] = (theta[0]-((alpha*np.sum(errors))/m))\n",
        "  theta[1] = (theta[1]-((alpha*np.sum(errors*x1))/m))\n",
        "  theta[2] = (theta[2]-((alpha*np.sum(errors*x2))/m))\n",
        "  theta[3] = (theta[3]-((alpha*np.sum(errors*x3))/m))\n",
        "  theta[4] = (theta[4]-((alpha*np.sum(errors*x4))/m))\n",
        "  theta[5] = (theta[5]-((alpha*np.sum(errors*x5))/m))\n",
        "  return theta\n",
        "\n",
        "\n",
        "\n",
        "x1_norm = normalize_vector(x1)\n",
        "x2_norm = normalize_vector(x2)\n",
        "x3_norm = normalize_vector(x3)\n",
        "x4_norm = normalize_vector(x4)\n",
        "x5_norm = normalize_vector(x5)\n",
        "\n",
        "y_norm = normalize_vector(y)\n",
        "\n",
        "theta = [0, 1, 1, 1, 1, 1]\n",
        "cost = cost_calculator(x1_norm, x2_norm, x3_norm, x4_norm, x5_norm, y_norm, theta)\n",
        "print(\"Cost:\", cost)\n",
        "alpha = 0.01\n",
        "iterations = 10000\n",
        "\n",
        "cost_history = []\n",
        "for _ in range(iterations):\n",
        "    theta = gradient_decent_algo(alpha, x1_norm, x2_norm, x3_norm, x4_norm, x5_norm, y_norm, theta)\n",
        "    cost = cost_calculator(x1_norm, x2_norm, x3_norm, x4_norm, x5_norm, y_norm, theta)\n",
        "    cost_history.append(cost)\n",
        "\n",
        "\n",
        "print(\"Theta:\", theta)\n",
        "cost_calculator(x1_norm, x2_norm, x3_norm, x4_norm, x5_norm, y_norm, theta)\n",
        "print(\"Cost:\", cost)\n",
        "\n",
        "initial_theta= [0,1]\n",
        "\n",
        "\n",
        "\n",
        "plt.plot(range(1, iterations + 1), cost_history)\n",
        "plt.xlabel(\"Iterations\")\n",
        "plt.ylabel(\"Cost\")\n",
        "plt.title('Cost vs Iteration')\n",
        "plt.show()\n",
        "\n",
        "'''\n",
        "initial_hypothesis = hypothesis(initial_theta, x_norm)\n",
        "final_hypothesis = hypothesis(theta, x_norm)\n",
        "\n",
        "plt.scatter(x_norm,y_norm, label='Data',color ='b')\n",
        "plt.plot(x_norm, initial_hypothesis, label='Initial Hypothesis', color='r')\n",
        "plt.plot(x_norm, final_hypothesis, label='Final Hypothesis', color='g')\n",
        "plt.title('House Price Prediction')\n",
        "plt.xlabel(\"Sqrt_Living (Normalized)\")\n",
        "plt.ylabel(\"Price (Normalized)\")\n",
        "plt.legend()\n",
        "plt.show()\n",
        "'''\n",
        "\n"
      ]
    }
  ]
}